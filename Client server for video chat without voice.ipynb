{
 "cells": [
  {
   "cell_type": "code",
   "execution_count": null,
   "id": "92a44368",
   "metadata": {},
   "outputs": [],
   "source": [
    "#CLIENT\n",
    "import cv2, socket, pickle, os\n",
    "\n",
    "s=socket.socket(socket.AF_INET , socket.SOCK_DGRAM)\n",
    "s.setsockopt(socket.SOL_SOCKET, socket.SO_SNDBUF, 10000000)\n",
    "\n",
    "serverip = \"192.168.1.6\"\n",
    "\n",
    "serverport=2345\n",
    "\n",
    "cap = cv2.VideoCapture(0)\n",
    "while True:\n",
    "    ret,photo = cap.read()\n",
    "    cv2.imshow('my pic', photo)\n",
    "    ret, buffer = cv2.imencode(\".jpg\", photo, [int(cv2.IMWRITE_JPEG_QUALITY),30])\n",
    "    x_as_bytes = pickle.dumps(buffer)\n",
    "    s.sendto(x_as_bytes,(serverip , serverport))\n",
    "    if cv2.waitKey(10) == 13:\n",
    "        break\n",
    "  \n",
    "cv2.destroyAllWindows()\n",
    "cap.release()"
   ]
  }
 ],
 "metadata": {
  "kernelspec": {
   "display_name": "Python 3",
   "language": "python",
   "name": "python3"
  },
  "language_info": {
   "codemirror_mode": {
    "name": "ipython",
    "version": 3
   },
   "file_extension": ".py",
   "mimetype": "text/x-python",
   "name": "python",
   "nbconvert_exporter": "python",
   "pygments_lexer": "ipython3",
   "version": "3.8.8"
  }
 },
 "nbformat": 4,
 "nbformat_minor": 5
}
